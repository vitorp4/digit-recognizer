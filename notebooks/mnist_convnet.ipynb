{
 "cells": [
  {
   "cell_type": "code",
   "execution_count": 1,
   "metadata": {},
   "outputs": [],
   "source": [
    "from keras.datasets import mnist\n",
    "from keras.models import Sequential, load_model\n",
    "from keras.layers import Dense, Conv2D, MaxPooling2D, Flatten\n",
    "from keras.utils import to_categorical\n",
    "import numpy as np\n",
    "import matplotlib.pyplot as plt"
   ]
  },
  {
   "cell_type": "code",
   "execution_count": 2,
   "metadata": {},
   "outputs": [],
   "source": [
    "(train_images, train_labels), (test_images, test_labels) = mnist.load_data()"
   ]
  },
  {
   "cell_type": "code",
   "execution_count": 3,
   "metadata": {},
   "outputs": [],
   "source": [
    "train_images = train_images.reshape((60000, 28, 28, 1))\n",
    "train_images = train_images.astype('float32') / 255\n",
    "\n",
    "test_images = test_images.reshape((10000, 28, 28, 1))\n",
    "test_images = test_images.astype('float32') / 255\n",
    "\n",
    "train_labels = to_categorical(train_labels)\n",
    "test_labels = to_categorical(test_labels)"
   ]
  },
  {
   "cell_type": "code",
   "execution_count": 4,
   "metadata": {},
   "outputs": [],
   "source": [
    "convnet = Sequential()\n",
    "convnet.add(Conv2D(32, (3, 3), activation='relu', input_shape=(28, 28, 1)))\n",
    "convnet.add(MaxPooling2D((2, 2)))\n",
    "convnet.add(Conv2D(64, (3, 3), activation='relu'))\n",
    "convnet.add(MaxPooling2D((2, 2)))\n",
    "convnet.add(Conv2D(64, (3, 3), activation='relu'))\n",
    "convnet.add(Flatten())\n",
    "convnet.add(Dense(64, activation='relu'))\n",
    "convnet.add(Dense(10, activation='softmax'))"
   ]
  },
  {
   "cell_type": "code",
   "execution_count": 5,
   "metadata": {},
   "outputs": [],
   "source": [
    "convnet.compile(optimizer='rmsprop', loss='categorical_crossentropy', metrics=['accuracy'])"
   ]
  },
  {
   "cell_type": "code",
   "execution_count": 6,
   "metadata": {},
   "outputs": [
    {
     "name": "stdout",
     "output_type": "stream",
     "text": [
      "Epoch 1/5\n",
      "938/938 [==============================] - 43s 44ms/step - loss: 0.1667 - accuracy: 0.9479\n",
      "Epoch 2/5\n",
      "938/938 [==============================] - 38s 41ms/step - loss: 0.0469 - accuracy: 0.9858\n",
      "Epoch 3/5\n",
      "938/938 [==============================] - 38s 41ms/step - loss: 0.0324 - accuracy: 0.9901\n",
      "Epoch 4/5\n",
      "938/938 [==============================] - 39s 41ms/step - loss: 0.0242 - accuracy: 0.9926\n",
      "Epoch 5/5\n",
      "938/938 [==============================] - 225s 240ms/step - loss: 0.0186 - accuracy: 0.9942\n"
     ]
    },
    {
     "data": {
      "text/plain": [
       "<keras.callbacks.History at 0x24883529990>"
      ]
     },
     "execution_count": 6,
     "metadata": {},
     "output_type": "execute_result"
    }
   ],
   "source": [
    "convnet.fit(train_images, train_labels, epochs=5, batch_size=64)"
   ]
  },
  {
   "cell_type": "code",
   "execution_count": 7,
   "metadata": {},
   "outputs": [
    {
     "name": "stdout",
     "output_type": "stream",
     "text": [
      "313/313 [==============================] - 2s 5ms/step - loss: 0.0296 - accuracy: 0.9912\n"
     ]
    }
   ],
   "source": [
    "test_loss, test_acc = convnet.evaluate(test_images, test_labels)"
   ]
  },
  {
   "cell_type": "code",
   "execution_count": 8,
   "metadata": {},
   "outputs": [
    {
     "name": "stderr",
     "output_type": "stream",
     "text": [
      "WARNING:absl:Found untraced functions such as _jit_compiled_convolution_op, _jit_compiled_convolution_op, _jit_compiled_convolution_op while saving (showing 3 of 3). These functions will not be directly callable after loading.\n"
     ]
    },
    {
     "name": "stdout",
     "output_type": "stream",
     "text": [
      "INFO:tensorflow:Assets written to: ../neural_networks/convnet_model\\assets\n"
     ]
    },
    {
     "name": "stderr",
     "output_type": "stream",
     "text": [
      "INFO:tensorflow:Assets written to: ../neural_networks/convnet_model\\assets\n"
     ]
    }
   ],
   "source": [
    "convnet.save(\"../neural_networks/convnet_model\")"
   ]
  },
  {
   "cell_type": "code",
   "execution_count": 9,
   "metadata": {},
   "outputs": [],
   "source": [
    "reconstructed_convnet = load_model(\"../neural_networks/convnet_model\")"
   ]
  },
  {
   "cell_type": "code",
   "execution_count": 10,
   "metadata": {},
   "outputs": [],
   "source": [
    "new_digit = np.array(\n",
    "[[0,0,0,0,0,0,0,0,0,0,0,0,0,0,0,0,0,0,0,0,0,0,0,0,0,0,0,0],\n",
    "[0,0,0,0,0,0,0,0,0,0,0,0,0,0,0,0,0,0,0,0,0,0,0,0,0,0,0,0],\n",
    "[0,0,0,0,0,0,0,0,0,0,0,0,0,195,255,240,255,225,0,0,0,0,0,0,0,0,0,0],\n",
    "[0,0,0,0,0,0,0,0,0,0,0,255,255,255,255,255,255,255,225,0,0,0,0,0,0,0,0,0],\n",
    "[0,0,0,0,0,0,0,0,0,0,255,255,255,255,255,255,255,255,255,0,0,0,0,0,0,0,0,0],\n",
    "[0,0,0,0,0,0,0,0,0,255,255,255,255,255,0,0,255,255,255,195,0,0,0,0,0,0,0,0],\n",
    "[0,0,0,0,0,0,0,0,255,255,255,255,0,0,0,0,0,255,255,225,0,0,0,0,0,0,0,0],\n",
    "[0,0,0,0,0,0,0,0,255,255,255,0,0,0,0,0,0,255,255,255,0,0,0,0,0,0,0,0],\n",
    "[0,0,0,0,0,0,0,0,255,255,255,0,0,0,0,0,0,210,255,255,195,0,0,0,0,0,0,0],\n",
    "[0,0,0,0,0,0,0,0,255,255,255,0,0,0,0,0,0,0,255,255,210,0,0,0,0,0,0,0],\n",
    "[0,0,0,0,0,0,0,0,180,255,255,255,195,0,0,0,0,0,255,255,255,0,0,0,0,0,0,0],\n",
    "[0,0,0,0,0,0,0,0,0,195,255,255,255,255,0,0,0,255,255,255,0,0,0,0,0,0,0,0],\n",
    "[0,0,0,0,0,0,0,0,0,0,180,255,255,255,255,210,255,255,255,195,0,0,0,0,0,0,0,0],\n",
    "[0,0,0,0,0,0,0,0,0,0,0,0,255,255,255,255,255,255,225,0,0,0,0,0,0,0,0,0],\n",
    "[0,0,0,0,0,0,0,0,0,0,0,240,255,255,255,255,255,255,0,0,0,0,0,0,0,0,0,0],\n",
    "[0,0,0,0,0,0,0,0,0,0,255,255,255,240,195,255,255,255,195,0,0,0,0,0,0,0,0,0],\n",
    "[0,0,0,0,0,0,0,0,0,255,255,255,195,0,0,0,255,255,255,0,0,0,0,0,0,0,0,0],\n",
    "[0,0,0,0,0,0,0,0,180,255,255,240,0,0,0,0,225,255,255,195,0,0,0,0,0,0,0,0],\n",
    "[0,0,0,0,0,0,0,0,225,255,255,0,0,0,0,0,0,255,255,255,0,0,0,0,0,0,0,0],\n",
    "[0,0,0,0,0,0,0,0,210,255,210,0,0,0,0,0,0,255,255,255,0,0,0,0,0,0,0,0],\n",
    "[0,0,0,0,0,0,0,0,255,255,255,0,0,0,0,0,180,255,255,240,0,0,0,0,0,0,0,0],\n",
    "[0,0,0,0,0,0,0,0,240,255,255,195,0,180,195,225,255,255,255,180,0,0,0,0,0,0,0,0],\n",
    "[0,0,0,0,0,0,0,0,0,255,255,255,255,240,255,255,255,255,180,0,0,0,0,0,0,0,0,0],\n",
    "[0,0,0,0,0,0,0,0,0,0,255,255,255,255,225,210,210,0,0,0,0,0,0,0,0,0,0,0],\n",
    "[0,0,0,0,0,0,0,0,0,0,0,180,210,195,0,0,0,0,0,0,0,0,0,0,0,0,0,0],\n",
    "[0,0,0,0,0,0,0,0,0,0,0,0,0,0,0,0,0,0,0,0,0,0,0,0,0,0,0,0],\n",
    "[0,0,0,0,0,0,0,0,0,0,0,0,0,0,0,0,0,0,0,0,0,0,0,0,0,0,0,0],\n",
    "[0,0,0,0,0,0,0,0,0,0,0,0,0,0,0,0,0,0,0,0,0,0,0,0,0,0,0,0]]\n",
    ")\n"
   ]
  },
  {
   "cell_type": "code",
   "execution_count": 11,
   "metadata": {},
   "outputs": [],
   "source": [
    "new_digit = new_digit.reshape((1, 28, 28, 1))\n",
    "new_digit = new_digit.astype('float32') / 255"
   ]
  },
  {
   "cell_type": "code",
   "execution_count": 12,
   "metadata": {},
   "outputs": [
    {
     "name": "stdout",
     "output_type": "stream",
     "text": [
      "1/1 [==============================] - 0s 115ms/step\n"
     ]
    }
   ],
   "source": [
    "result = reconstructed_convnet.predict(new_digit)"
   ]
  },
  {
   "cell_type": "code",
   "execution_count": 13,
   "metadata": {},
   "outputs": [
    {
     "data": {
      "text/plain": [
       "array([[1.5683569e-13, 4.5475441e-15, 2.9829664e-08, 2.6315608e-11,\n",
       "        1.7676300e-14, 1.6681639e-13, 1.0216900e-14, 3.7239787e-15,\n",
       "        1.0000000e+00, 2.6188098e-13]], dtype=float32)"
      ]
     },
     "execution_count": 13,
     "metadata": {},
     "output_type": "execute_result"
    }
   ],
   "source": [
    "result"
   ]
  },
  {
   "cell_type": "code",
   "execution_count": 14,
   "metadata": {},
   "outputs": [
    {
     "data": {
      "image/png": "[encoded data removed]",
      "text/plain": [
       "<Figure size 640x480 with 1 Axes>"
      ]
     },
     "metadata": {},
     "output_type": "display_data"
    }
   ],
   "source": [
    "plt.rcParams['axes.facecolor'] = '#131417'\n",
    "plt.rcParams['figure.facecolor'] = '#131417'\n",
    "plt.bar(np.arange(10), result[0], color=\"#47CF73\")\n",
    "plt.xticks(np.arange(10))\n",
    "plt.ylabel(\"Probabilidade\")\n",
    "plt.xlabel(\"Classe\")\n",
    "\n",
    "ax = plt.gca()\n",
    "ax.xaxis.label.set_color('#C7C9D3')        #setting up X-axis label color to yellow\n",
    "ax.yaxis.label.set_color('#C7C9D3')          #setting up Y-axis label color to blue\n",
    "\n",
    "ax.tick_params(axis='x', colors='#C7C9D3')    #setting up X-axis tick color to red\n",
    "ax.tick_params(axis='y', colors='#C7C9D3')  #setting up Y-axis tick color to black\n",
    "\n",
    "ax.spines['bottom'].set_color('#C7C9D3')        # setting up Y-axis tick color to red\n",
    "ax.spines['left'].set_color('#C7C9D3')\n",
    "ax.spines['top'].set_visible(False)\n",
    "ax.spines['right'].set_visible(False)\n",
    "\n",
    "plt.savefig('chart_probs_convnet.png', dpi=300)"
   ]
  },
  {
   "cell_type": "code",
   "execution_count": 15,
   "metadata": {},
   "outputs": [
    {
     "data": {
      "text/plain": [
       "8"
      ]
     },
     "execution_count": 15,
     "metadata": {},
     "output_type": "execute_result"
    }
   ],
   "source": [
    "result[0].argmax()"
   ]
  },
  {
   "cell_type": "code",
   "execution_count": null,
   "metadata": {},
   "outputs": [],
   "source": []
  }
 ],
 "metadata": {
  "kernelspec": {
   "display_name": "Python 3.10.6 ('venv': venv)",
   "language": "python",
   "name": "python3"
  },
  "language_info": {
   "codemirror_mode": {
    "name": "ipython",
    "version": 3
   },
   "file_extension": ".py",
   "mimetype": "text/x-python",
   "name": "python",
   "nbconvert_exporter": "python",
   "pygments_lexer": "ipython3",
   "version": "3.10.6"
  },
  "orig_nbformat": 4,
  "vscode": {
   "interpreter": {
    "hash": "d423e49fcc0df6d351ad1a0f3c58f2a3ec074e5fff558f52c32b64314f39f365"
   }
  }
 },
 "nbformat": 4,
 "nbformat_minor": 2
}
